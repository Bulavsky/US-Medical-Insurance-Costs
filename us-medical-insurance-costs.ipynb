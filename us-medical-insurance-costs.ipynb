{
 "cells": [
  {
   "cell_type": "markdown",
   "metadata": {},
   "source": [
    "# U.S. Medical Insurance Costs"
   ]
  },
  {
   "cell_type": "code",
   "execution_count": 250,
   "metadata": {},
   "outputs": [],
   "source": [
    "import csv\n",
    "from collections import Counter\n",
    "\n",
    "\n",
    "\n"
   ]
  },
  {
   "cell_type": "markdown",
   "metadata": {},
   "source": [
    "Creating empty lists for each of the columns in csv data."
   ]
  },
  {
   "cell_type": "code",
   "execution_count": 251,
   "metadata": {},
   "outputs": [],
   "source": [
    "ages = []\n",
    "sexes = []\n",
    "bmis = []\n",
    "num_children = []\n",
    "smoker_statuses = []\n",
    "regions = []\n",
    "insurance_costs = []"
   ]
  },
  {
   "cell_type": "markdown",
   "metadata": {},
   "source": [
    "We are going to create a function that will allow to get the data for each column and fill in the created lists."
   ]
  },
  {
   "cell_type": "code",
   "execution_count": 252,
   "metadata": {},
   "outputs": [],
   "source": [
    "def csv_data_read(lst, csv_file, column):\n",
    "    with open(csv_file) as csv_data:\n",
    "        csv_reader=csv.DictReader(csv_data)\n",
    "        for row in csv_reader:\n",
    "            lst.append(row[column])\n",
    "        return lst\n",
    "\n",
    "        "
   ]
  },
  {
   "cell_type": "code",
   "execution_count": 253,
   "metadata": {
    "scrolled": true
   },
   "outputs": [],
   "source": [
    "csv_data_read(ages, \"insurance.csv\", \"age\");\n",
    "csv_data_read(sexes, \"insurance.csv\", \"sex\");\n",
    "csv_data_read(bmis, \"insurance.csv\", \"bmi\");\n",
    "csv_data_read(num_children, \"insurance.csv\", \"children\");\n",
    "csv_data_read(smoker_statuses, \"insurance.csv\", \"smoker\");\n",
    "csv_data_read(regions, \"insurance.csv\", \"region\");\n",
    "csv_data_read(insurance_costs, \"insurance.csv\", \"charges\");"
   ]
  },
  {
   "cell_type": "markdown",
   "metadata": {},
   "source": [
    "We need to clean our data by converting columns with sexes and smoker statuses to numbers that will facilitate our analysis."
   ]
  },
  {
   "cell_type": "code",
   "execution_count": 254,
   "metadata": {},
   "outputs": [],
   "source": [
    "sexes = [ \"1\" if i == \"male\" else \"0\" for i in sexes]\n"
   ]
  },
  {
   "cell_type": "code",
   "execution_count": 255,
   "metadata": {},
   "outputs": [],
   "source": [
    "smoker_statuses = [ \"1\" if i == \"yes\" else \"0\" for i in smoker_statuses]\n"
   ]
  },
  {
   "cell_type": "markdown",
   "metadata": {},
   "source": [
    "We convert also the insurance_costs list to list of floats"
   ]
  },
  {
   "cell_type": "code",
   "execution_count": 256,
   "metadata": {},
   "outputs": [],
   "source": [
    "insurance_costs=[float(i) for i in insurance_costs]\n"
   ]
  },
  {
   "cell_type": "markdown",
   "metadata": {},
   "source": [
    "We are going to create a class P_Data (Patients Data) where we'll store all the information and the functions necessary to analyze data."
   ]
  },
  {
   "cell_type": "code",
   "execution_count": 257,
   "metadata": {},
   "outputs": [],
   "source": [
    "class P_Data:\n",
    "    def __init__(self, p_ages, p_sexes, p_bmis, p_children, p_smoker, p_regions, p_insurance_costs):\n",
    "        self.p_ages=p_ages\n",
    "        self.p_sexes=p_sexes\n",
    "        self.p_bmis=p_bmis\n",
    "        self.p_children=p_children\n",
    "        self.p_smoker=p_smoker\n",
    "        self.p_regions=p_regions\n",
    "        self.p_insurance_costs=p_insurance_costs\n",
    "    def total_patients(self):\n",
    "        #we check for how many entries there are in the dataset\n",
    "        total_entries=0\n",
    "        for l in self.p_ages:\n",
    "            total_entries+=1\n",
    "        return \"The total of patients in data sample is: \" + str(total_entries)\n",
    "    def p_dict(self):\n",
    "        p_info={}\n",
    "        p_info[\"Age\"]=self.p_ages\n",
    "        p_info[\"Sex\"]=self.p_sexes\n",
    "        p_info[\"BMI\"]=self.p_bmis\n",
    "        p_info[\"Children\"]=self.p_children\n",
    "        p_info[\"Smoker\"]=self.p_smoker\n",
    "        p_info[\"Region\"]=self.p_regions\n",
    "        p_info[\"Insurance Charges\"]=self.p_insurance_costs\n",
    "        return p_info\n",
    "    def mean_age(self):\n",
    "        #the function will calculate the average age in the data\n",
    "        total=0\n",
    "        for a in self.p_ages:\n",
    "            total+=int(a)\n",
    "        return \"The mean age of the patients in data sample is: \" + str(round(total/len(self.p_ages), 2))\n",
    "    def sex_distribution(self):\n",
    "        #the function will calculate how many males/females are in dataset\n",
    "        male_tot=0\n",
    "        female_tot=0\n",
    "        for s in self.p_sexes:\n",
    "            if s==\"1\":\n",
    "                male_tot+=1\n",
    "            elif s==\"0\":\n",
    "                female_tot+=1\n",
    "        return f\"The total of male patients is: {male_tot}. The total of female patients is: {female_tot}\"\n",
    "    def mean_bmi(self):\n",
    "        #the function will calculate the average bmi in the data\n",
    "        bmi_tot=0\n",
    "        for b in self.p_bmis:\n",
    "            bmi_tot+=float(b)\n",
    "        return \"The mean BMI of the patients in data sample is: \" + str(round(bmi_tot/len(self.p_bmis), 2))\n",
    "    def smoker_distribution(self):\n",
    "        #the function will calculate how many smokers/non smoker are in data\n",
    "        smoker_tot=0\n",
    "        non_smoker_tot=0\n",
    "        for s in self.p_smoker:\n",
    "            if s==\"1\":\n",
    "                smoker_tot+=1\n",
    "            elif s==\"0\":\n",
    "                non_smoker_tot+=1\n",
    "        return f\"The total of patients in data sample that are smokers is: {smoker_tot}. The total of non smokers is: {non_smoker_tot}.\"\n",
    "    def unique_regions(self):\n",
    "        #finding the distribution of patients from different regions\n",
    "        u_reg=Counter(self.p_regions)\n",
    "        return f\"Patients are from {len(u_reg)} unique regions. And they are distributed as follows: \"+ str(dict(u_reg))\n",
    "    def number_of_children(self):\n",
    "        #how many children patients from the data have\n",
    "        unique_entries=Counter(self.p_children)\n",
    "        return f\"Patients have different number of children. And they are distributed as follows: \"+ str(dict(unique_entries))\n",
    "    def mean_charge(self):\n",
    "        #the function will calculate the average insurance cost of the patients in data sample\n",
    "        total=0\n",
    "        for m in self.p_insurance_costs:\n",
    "            total+=m\n",
    "        return f\"The mean insurance charge for patients in data sample is: {str(round(total/len(self.p_insurance_costs), 2))} dollars.\"\n",
    "   \n",
    "\n",
    "    "
   ]
  },
  {
   "cell_type": "markdown",
   "metadata": {},
   "source": [
    "Now we are going to use all various functions from the defined class to analyse the data and printing out the results."
   ]
  },
  {
   "cell_type": "code",
   "execution_count": 258,
   "metadata": {},
   "outputs": [],
   "source": [
    "data_to_analyze=P_Data(ages, sexes, bmis, num_children, smoker_statuses, regions, insurance_costs)"
   ]
  },
  {
   "cell_type": "code",
   "execution_count": 259,
   "metadata": {},
   "outputs": [
    {
     "data": {
      "text/plain": [
       "'The total of patients in data sample is: 1338'"
      ]
     },
     "execution_count": 259,
     "metadata": {},
     "output_type": "execute_result"
    }
   ],
   "source": [
    "data_to_analyze.total_patients()"
   ]
  },
  {
   "cell_type": "code",
   "execution_count": 260,
   "metadata": {},
   "outputs": [
    {
     "data": {
      "text/plain": [
       "'The total of male patients is: 676. The total of female patients is: 662'"
      ]
     },
     "execution_count": 260,
     "metadata": {},
     "output_type": "execute_result"
    }
   ],
   "source": [
    "data_to_analyze.sex_distribution()"
   ]
  },
  {
   "cell_type": "code",
   "execution_count": 261,
   "metadata": {},
   "outputs": [
    {
     "data": {
      "text/plain": [
       "'The mean age of the patients in data sample is: 39.21'"
      ]
     },
     "execution_count": 261,
     "metadata": {},
     "output_type": "execute_result"
    }
   ],
   "source": [
    "data_to_analyze.mean_age()"
   ]
  },
  {
   "cell_type": "code",
   "execution_count": 262,
   "metadata": {},
   "outputs": [
    {
     "data": {
      "text/plain": [
       "'The mean BMI of the patients in data sample is: 30.66'"
      ]
     },
     "execution_count": 262,
     "metadata": {},
     "output_type": "execute_result"
    }
   ],
   "source": [
    "data_to_analyze.mean_bmi()"
   ]
  },
  {
   "cell_type": "code",
   "execution_count": 263,
   "metadata": {},
   "outputs": [
    {
     "data": {
      "text/plain": [
       "\"Patients have different number of children. And they are distributed as follows: {'0': 574, '1': 324, '3': 157, '2': 240, '5': 18, '4': 25}\""
      ]
     },
     "execution_count": 263,
     "metadata": {},
     "output_type": "execute_result"
    }
   ],
   "source": [
    "data_to_analyze.number_of_children()"
   ]
  },
  {
   "cell_type": "code",
   "execution_count": 264,
   "metadata": {},
   "outputs": [
    {
     "data": {
      "text/plain": [
       "'The total of patients in data sample that are smokers is: 274. The total of non smokers is: 1064.'"
      ]
     },
     "execution_count": 264,
     "metadata": {},
     "output_type": "execute_result"
    }
   ],
   "source": [
    "data_to_analyze.smoker_distribution()"
   ]
  },
  {
   "cell_type": "code",
   "execution_count": 265,
   "metadata": {},
   "outputs": [
    {
     "data": {
      "text/plain": [
       "\"Patients are from 4 unique regions. And they are distributed as follows: {'southwest': 325, 'southeast': 364, 'northwest': 325, 'northeast': 324}\""
      ]
     },
     "execution_count": 265,
     "metadata": {},
     "output_type": "execute_result"
    }
   ],
   "source": [
    "data_to_analyze.unique_regions()"
   ]
  },
  {
   "cell_type": "code",
   "execution_count": 266,
   "metadata": {},
   "outputs": [
    {
     "data": {
      "text/plain": [
       "'The mean insurance charge for patients in data sample is: 13270.42 dollars.'"
      ]
     },
     "execution_count": 266,
     "metadata": {},
     "output_type": "execute_result"
    }
   ],
   "source": [
    "data_to_analyze.mean_charge()"
   ]
  },
  {
   "cell_type": "markdown",
   "metadata": {},
   "source": [
    "We can also compare the costs that have males vs females and smokers vs non smokers in this data set.\n",
    "We write a function that will be used for both comparisons."
   ]
  },
  {
   "cell_type": "code",
   "execution_count": 267,
   "metadata": {},
   "outputs": [],
   "source": [
    "def comparing_costs(lst_variable, lst_costs):\n",
    "    comparing_tuple=zip(lst_variable, lst_costs)\n",
    "    total_0=0\n",
    "    total_1=0\n",
    "    count_0=0\n",
    "    count_1=0\n",
    "    for k, v in comparing_tuple:\n",
    "        if k==\"0\":\n",
    "            total_0+=float(v)\n",
    "            count_0+=1\n",
    "        elif k==\"1\":\n",
    "            total_1+=float(v)\n",
    "            count_1+=1\n",
    "    return round(total_0/count_0, 2), round(total_1/count_1, 2), \"The difference is \" + str(round(total_0/count_0, 2)-round(total_1/count_1)) + \" dollars.\"\n",
    "    \n",
    "    "
   ]
  },
  {
   "cell_type": "code",
   "execution_count": 268,
   "metadata": {},
   "outputs": [
    {
     "data": {
      "text/plain": [
       "(12569.58, 13956.75, 'The difference is -1387.42 dollars.')"
      ]
     },
     "execution_count": 268,
     "metadata": {},
     "output_type": "execute_result"
    }
   ],
   "source": [
    "comparing_costs(sexes, insurance_costs)"
   ]
  },
  {
   "cell_type": "code",
   "execution_count": 269,
   "metadata": {},
   "outputs": [
    {
     "data": {
      "text/plain": [
       "(8434.27, 32050.23, 'The difference is -23615.73 dollars.')"
      ]
     },
     "execution_count": 269,
     "metadata": {},
     "output_type": "execute_result"
    }
   ],
   "source": [
    "comparing_costs(smoker_statuses, insurance_costs)"
   ]
  },
  {
   "cell_type": "markdown",
   "metadata": {},
   "source": [
    "As we see the difference in charges between male and female isn't significant comparing to the difference between smoker and non smoker patients. \n",
    "\n",
    "We can also look for how many smokers are among males vs females:"
   ]
  },
  {
   "cell_type": "code",
   "execution_count": 270,
   "metadata": {},
   "outputs": [
    {
     "name": "stdout",
     "output_type": "stream",
     "text": [
      "There are 159 male smokers in the data set vs 115 female smokers.\n"
     ]
    }
   ],
   "source": [
    "comparing_smokers=zip(smoker_statuses, sexes)\n",
    "total_male_smokers=0\n",
    "total_female_smokers=0\n",
    "for k, v in comparing_smokers:\n",
    "    if k==\"1\" and v==\"1\":\n",
    "        total_male_smokers+=1\n",
    "    elif k==\"1\" and v==\"0\":\n",
    "        total_female_smokers+=1\n",
    "print(f\"There are {total_male_smokers} male smokers in the data set vs {total_female_smokers} female smokers.\")\n",
    "        "
   ]
  },
  {
   "cell_type": "markdown",
   "metadata": {},
   "source": [
    "Another step in the analysis will be the comparison that looks at various bmi's and the relative charges:"
   ]
  },
  {
   "cell_type": "code",
   "execution_count": 271,
   "metadata": {},
   "outputs": [
    {
     "name": "stdout",
     "output_type": "stream",
     "text": [
      "There are 20 patients in the underweight category and their average insurance charge is 8852.2.\n",
      "There are 225 patients in the healthy category and their average insurance charge is 10409.34.\n",
      "There are 386 patients in the overweight category and their average insurance charge is 10987.51.\n",
      "There are 707 patients in the obese category and their average insurance charge is 15552.34.\n"
     ]
    }
   ],
   "source": [
    "comparing_bmi_charges=zip(bmis, insurance_costs)\n",
    "underweight_patients_count=0\n",
    "underweight_charges=0\n",
    "healthy_count=0\n",
    "healthy_charges=0\n",
    "overweight_count=0\n",
    "overweight_charges=0\n",
    "obese_count=0\n",
    "obese_charges=0\n",
    "for k, v in comparing_bmi_charges:\n",
    "    k=float(k)\n",
    "    if k<18.5:\n",
    "        underweight_charges+=float(v)\n",
    "        underweight_patients_count+=1\n",
    "    elif k>=18.5 and k<25:\n",
    "        healthy_charges+=float(v)\n",
    "        healthy_count+=1\n",
    "    elif k>=25 and k<30:\n",
    "        overweight_charges+=float(v)\n",
    "        overweight_count+=1\n",
    "    else:\n",
    "        obese_charges+=float(v)\n",
    "        obese_count+=1\n",
    "\n",
    "print(f\"There are {underweight_patients_count} patients in the underweight category and their average insurance charge is {round(underweight_charges/underweight_patients_count, 2)}.\")\n",
    "print(f\"There are {healthy_count} patients in the healthy category and their average insurance charge is {round(healthy_charges/healthy_count, 2)}.\")  \n",
    "print(f\"There are {overweight_count} patients in the overweight category and their average insurance charge is {round(overweight_charges/overweight_count, 2)}.\")  \n",
    "print(f\"There are {obese_count} patients in the obese category and their average insurance charge is {round(obese_charges/obese_count, 2)}.\")  \n"
   ]
  },
  {
   "cell_type": "markdown",
   "metadata": {},
   "source": [
    "Clearly the BMI index has an influence on the insurance costs of patients, alongside with smoker status."
   ]
  },
  {
   "cell_type": "markdown",
   "metadata": {},
   "source": [
    "CONCLUSION\n",
    "\n",
    "To further explore the correlations between various factors we would need to use statistical methods such as Pearson's coefficient. In order to do this though we would need not only to apply the formula, but first it would be necessary to check if our data follows the normal distribution and if not normilize it. This is for the moment well beyond my knowledge and capabilities. For this reason I can't reach any meaningful conclusions from this analysis other than general statistical outputs mentioned earlier."
   ]
  },
  {
   "cell_type": "code",
   "execution_count": null,
   "metadata": {},
   "outputs": [],
   "source": []
  },
  {
   "cell_type": "code",
   "execution_count": null,
   "metadata": {},
   "outputs": [],
   "source": []
  }
 ],
 "metadata": {
  "kernelspec": {
   "display_name": "Python 3 (ipykernel)",
   "language": "python",
   "name": "python3"
  },
  "language_info": {
   "codemirror_mode": {
    "name": "ipython",
    "version": 3
   },
   "file_extension": ".py",
   "mimetype": "text/x-python",
   "name": "python",
   "nbconvert_exporter": "python",
   "pygments_lexer": "ipython3",
   "version": "3.10.3"
  }
 },
 "nbformat": 4,
 "nbformat_minor": 4
}
